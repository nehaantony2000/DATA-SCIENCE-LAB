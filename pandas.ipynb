{
  "nbformat": 4,
  "nbformat_minor": 0,
  "metadata": {
    "colab": {
      "name": "pandas.ipynb",
      "provenance": [],
      "collapsed_sections": [],
      "authorship_tag": "ABX9TyPnsshrC6SbPYzu9frqxXCd",
      "include_colab_link": true
    },
    "kernelspec": {
      "name": "python3",
      "display_name": "Python 3"
    },
    "language_info": {
      "name": "python"
    }
  },
  "cells": [
    {
      "cell_type": "markdown",
      "metadata": {
        "id": "view-in-github",
        "colab_type": "text"
      },
      "source": [
        "<a href=\"https://colab.research.google.com/github/nehaantony2000/DATA-SCIENCE-LAB/blob/main/pandas.ipynb\" target=\"_parent\"><img src=\"https://colab.research.google.com/assets/colab-badge.svg\" alt=\"Open In Colab\"/></a>"
      ]
    },
    {
      "cell_type": "code",
      "execution_count": null,
      "metadata": {
        "colab": {
          "base_uri": "https://localhost:8080/"
        },
        "id": "1jJeoiu2Fv9E",
        "outputId": "4a97e2e4-3b18-4ac8-8940-0706f6634be1"
      },
      "outputs": [
        {
          "output_type": "stream",
          "name": "stdout",
          "text": [
            "0    10\n",
            "1    15\n",
            "2    18\n",
            "3    22\n",
            "dtype: int64\n"
          ]
        }
      ],
      "source": [
        "import pandas as pd \n",
        "\n",
        "import numpy as np\n",
        "arr=np.array([10,15,18,22]) \n",
        "s = pd.Series(arr) \n",
        "print(s)\n"
      ]
    },
    {
      "cell_type": "code",
      "source": [
        "import pandas as pd\n",
        "\n",
        "import numpy as np\n",
        "arr=np.array(['a','b','c','d'])\n",
        "s=pd.Series(arr,\n",
        "index=['first','second','third','fourth'])\n",
        "print(s)"
      ],
      "metadata": {
        "colab": {
          "base_uri": "https://localhost:8080/"
        },
        "id": "MB2vVp9VGGbi",
        "outputId": "395d0f0d-92d5-4d81-a339-84c75efc4fb1"
      },
      "execution_count": null,
      "outputs": [
        {
          "output_type": "stream",
          "name": "stdout",
          "text": [
            "first     a\n",
            "second    b\n",
            "third     c\n",
            "fourth    d\n",
            "dtype: object\n"
          ]
        }
      ]
    },
    {
      "cell_type": "code",
      "source": [
        "import pandas as pd\n",
        "s=pd.Series(50,index=[0,1,2,3,4])\n",
        "print(s)"
      ],
      "metadata": {
        "colab": {
          "base_uri": "https://localhost:8080/"
        },
        "id": "tZ-r-0UIGgaY",
        "outputId": "f93c464d-fad0-445b-ffe8-875265f2cb55"
      },
      "execution_count": null,
      "outputs": [
        {
          "output_type": "stream",
          "name": "stdout",
          "text": [
            "0    50\n",
            "1    50\n",
            "2    50\n",
            "3    50\n",
            "4    50\n",
            "dtype: int64\n"
          ]
        }
      ]
    },
    {
      "cell_type": "code",
      "source": [
        "import pandas as pd\n",
        "d={'Name':'Harthik','IPLteam':'MI','Runs':4000}\n",
        "s= pd.Series(d)\n",
        "print(s)"
      ],
      "metadata": {
        "colab": {
          "base_uri": "https://localhost:8080/"
        },
        "id": "P1YXMrUBG2hY",
        "outputId": "ef488ccc-0f85-480d-ebb8-f02282aace01"
      },
      "execution_count": null,
      "outputs": [
        {
          "output_type": "stream",
          "name": "stdout",
          "text": [
            "Name       Harthik\n",
            "IPLteam         MI\n",
            "Runs          4000\n",
            "dtype: object\n"
          ]
        }
      ]
    },
    {
      "cell_type": "code",
      "source": [
        "import pandas as pd\n",
        "s=pd.Series([1,2,3,4,5])\n",
        "print(\"To multiply all the numbers with 2\")\n",
        "print(\"___________________________________________________\")\n",
        "print(s*2)\n",
        "print(\"___________________________________________________\")\n",
        "print(\"To find the square of allnumbers \")\n",
        "print(\"___________________________________________________\")\n",
        "print(s**2)\n",
        "print(\"___________________________________________________\")\n",
        "print(\"To print all the values greater than 2\")\n",
        "print(\"___________________________________________________\")\n",
        "print(s[s>2])\n",
        "print(\"___________________________________________________\")\n"
      ],
      "metadata": {
        "colab": {
          "base_uri": "https://localhost:8080/"
        },
        "id": "iR7Y1HsXH70m",
        "outputId": "e885b2b6-fbee-41ce-cf78-825a7647fc1e"
      },
      "execution_count": null,
      "outputs": [
        {
          "output_type": "stream",
          "name": "stdout",
          "text": [
            "To multiply all the numbers with 2\n",
            "___________________________________________________\n",
            "0     2\n",
            "1     4\n",
            "2     6\n",
            "3     8\n",
            "4    10\n",
            "dtype: int64\n",
            "___________________________________________________\n",
            "To find the square of allnumbers \n",
            "___________________________________________________\n",
            "0     1\n",
            "1     4\n",
            "2     9\n",
            "3    16\n",
            "4    25\n",
            "dtype: int64\n",
            "___________________________________________________\n",
            "To print all the values greater than 2\n",
            "___________________________________________________\n",
            "2    3\n",
            "3    4\n",
            "4    5\n",
            "dtype: int64\n",
            "___________________________________________________\n"
          ]
        }
      ]
    },
    {
      "cell_type": "code",
      "source": [
        "import pandas as pd\n",
        "s1=pd.Series([10,20,30,40,50],index =['a','b','c','d','e'])\n",
        "s2=pd.Series([15,25,35,45,55],index =['a','b','c','d','e'])\n",
        "s3=pd.Series([5,6,7,8],index =['a','b','c','d'])\n",
        "print(\"Add series 1 and series 2\")\n",
        "print(\"___________________________________________________\")\n",
        "print(s1+s2)\n",
        "print(\"___________________________________________________\")\n",
        "print(\"Add series 2 and series 3\")\n",
        "print(\"___________________________________________________\")\n",
        "print(s2+s3)\n",
        "print(\"___________________________________________________\")\n",
        "print('To Add Series2&series3 and Filled Non Matching Index with0')\n",
        "print('.. ---')\n",
        "print(s2.add(s3,fill_value=0))"
      ],
      "metadata": {
        "colab": {
          "base_uri": "https://localhost:8080/"
        },
        "id": "Lu1L16JqJjbJ",
        "outputId": "ee15ae8f-cc46-473a-bdc0-a2aadc84e38b"
      },
      "execution_count": null,
      "outputs": [
        {
          "output_type": "stream",
          "name": "stdout",
          "text": [
            "Add series 1 and series 2\n",
            "___________________________________________________\n",
            "a     25\n",
            "b     45\n",
            "c     65\n",
            "d     85\n",
            "e    105\n",
            "dtype: int64\n",
            "___________________________________________________\n",
            "Add series 2 and series 3\n",
            "___________________________________________________\n",
            "a    20.0\n",
            "b    31.0\n",
            "c    42.0\n",
            "d    53.0\n",
            "e     NaN\n",
            "dtype: float64\n",
            "___________________________________________________\n",
            "To Add Series2&series3 and Filled Non Matching Index with0\n",
            ".. ---\n",
            "a    20.0\n",
            "b    31.0\n",
            "c    42.0\n",
            "d    53.0\n",
            "e    55.0\n",
            "dtype: float64\n"
          ]
        }
      ]
    },
    {
      "cell_type": "code",
      "source": [
        "import pandas as pd\n",
        "import numpy as np\n",
        "arr=np.array([10,15,18,22,55,77,42,48,97])\n",
        "#createaseries from array\n",
        "s=pd.Series(arr)\n",
        "#to print fiest5rows\n",
        "print(s.head())\n",
        "#To print first3rows\n",
        "print(s.head(3))\n",
        "               "
      ],
      "metadata": {
        "colab": {
          "base_uri": "https://localhost:8080/"
        },
        "id": "YlQVsaJiMISa",
        "outputId": "810a425d-b520-4bf5-9634-e33b9e0ffd1c"
      },
      "execution_count": null,
      "outputs": [
        {
          "output_type": "stream",
          "name": "stdout",
          "text": [
            "0    10\n",
            "1    15\n",
            "2    18\n",
            "3    22\n",
            "4    55\n",
            "dtype: int64\n",
            "0    10\n",
            "1    15\n",
            "2    18\n",
            "dtype: int64\n"
          ]
        }
      ]
    },
    {
      "cell_type": "code",
      "source": [
        "import pandas as pd\n",
        "import numpy as np\n",
        "arr=np.array([10,15,18,22,55,77,42,48,97])\n",
        "#createaseries from array\n",
        "S=s=pd.Series(arr)\n",
        "#to print Last5rows\n",
        "print(s.tail())\n",
        "#To print Last4rows\n",
        "print(s.tail(4))"
      ],
      "metadata": {
        "colab": {
          "base_uri": "https://localhost:8080/"
        },
        "id": "LrtxyEK4MSSA",
        "outputId": "5b7e64ea-7640-4f43-cefb-a7e423d2846c"
      },
      "execution_count": null,
      "outputs": [
        {
          "output_type": "stream",
          "name": "stdout",
          "text": [
            "4    55\n",
            "5    77\n",
            "6    42\n",
            "7    48\n",
            "8    97\n",
            "dtype: int64\n",
            "5    77\n",
            "6    42\n",
            "7    48\n",
            "8    97\n",
            "dtype: int64\n"
          ]
        }
      ]
    },
    {
      "cell_type": "code",
      "source": [
        "import pandas as pd\n",
        "import numpy as np\n",
        "arr=np.array([10,15,18,22,55,77])\n",
        "s=pd.Series(arr)\n",
        "print(s)\n",
        "print(s.loc[:2])\n",
        "print(s.loc[3:4])\n",
        "s.loc[2:3]\n",
        "                           "
      ],
      "metadata": {
        "colab": {
          "base_uri": "https://localhost:8080/"
        },
        "id": "HKW7GuJqMaWT",
        "outputId": "91a460c5-6d50-47f4-b446-50debf08620e"
      },
      "execution_count": null,
      "outputs": [
        {
          "output_type": "stream",
          "name": "stdout",
          "text": [
            "0    10\n",
            "1    15\n",
            "2    18\n",
            "3    22\n",
            "4    55\n",
            "5    77\n",
            "dtype: int64\n",
            "0    10\n",
            "1    15\n",
            "2    18\n",
            "dtype: int64\n",
            "3    22\n",
            "4    55\n",
            "dtype: int64\n"
          ]
        },
        {
          "output_type": "execute_result",
          "data": {
            "text/plain": [
              "2    18\n",
              "3    22\n",
              "dtype: int64"
            ]
          },
          "metadata": {},
          "execution_count": 24
        }
      ]
    },
    {
      "cell_type": "code",
      "source": [
        "import pandas as pd\n",
        "import numpy as np\n",
        "arr=np.array([10,15,18,22,55,77])\n",
        "s=pd.Series(arr)\n",
        "print(s)\n",
        "print(s.iloc[:2])\n",
        "print(s.iloc[3:4])\n",
        "s.iloc[2:3]\n",
        "                          "
      ],
      "metadata": {
        "colab": {
          "base_uri": "https://localhost:8080/"
        },
        "id": "TAt2_OhjMpE3",
        "outputId": "7fa920e3-a61a-42d6-9fb1-82c5a575482b"
      },
      "execution_count": null,
      "outputs": [
        {
          "output_type": "stream",
          "name": "stdout",
          "text": [
            "0    10\n",
            "1    15\n",
            "2    18\n",
            "3    22\n",
            "4    55\n",
            "5    77\n",
            "dtype: int64\n",
            "0    10\n",
            "1    15\n",
            "dtype: int64\n",
            "3    22\n",
            "dtype: int64\n"
          ]
        },
        {
          "output_type": "execute_result",
          "data": {
            "text/plain": [
              "2    18\n",
              "dtype: int64"
            ]
          },
          "metadata": {},
          "execution_count": 25
        }
      ]
    },
    {
      "cell_type": "code",
      "source": [
        "import pandas as pd\n",
        "import numpy as np\n",
        "arr=np.array([10,15,18,22,55,77])\n",
        "s=pd.Series(arr)\n",
        "print(s)\n",
        "print(s[1])\n",
        "print('\\n')\n",
        "print(s[3:4])\n",
        "s[:21]\n",
        "                          "
      ],
      "metadata": {
        "colab": {
          "base_uri": "https://localhost:8080/"
        },
        "id": "9DGQ1bIjMxS-",
        "outputId": "cdefff08-1b58-4457-ecee-048dcb7a9ff6"
      },
      "execution_count": null,
      "outputs": [
        {
          "output_type": "stream",
          "name": "stdout",
          "text": [
            "0    10\n",
            "1    15\n",
            "2    18\n",
            "3    22\n",
            "4    55\n",
            "5    77\n",
            "dtype: int64\n",
            "15\n",
            "\n",
            "\n",
            "3    22\n",
            "dtype: int64\n"
          ]
        },
        {
          "output_type": "execute_result",
          "data": {
            "text/plain": [
              "0    10\n",
              "1    15\n",
              "2    18\n",
              "3    22\n",
              "4    55\n",
              "5    77\n",
              "dtype: int64"
            ]
          },
          "metadata": {},
          "execution_count": 27
        }
      ]
    },
    {
      "cell_type": "code",
      "source": [
        "import pandas as pd\n",
        "import numpy as np\n",
        "arr=np.array(['a','b','c','d'],)\n",
        "s=pd.Series(arr,index=['first','second','third','fourth'])\n",
        "print(s)\n",
        "#To print only indexes in series\n",
        "print('\\nindexes in Series are :::')\n",
        "print(s.index)"
      ],
      "metadata": {
        "colab": {
          "base_uri": "https://localhost:8080/"
        },
        "id": "E8P4umjgNNBL",
        "outputId": "7c71617f-fd42-4ad9-bd19-decc9f83bad1"
      },
      "execution_count": null,
      "outputs": [
        {
          "output_type": "stream",
          "name": "stdout",
          "text": [
            "first     a\n",
            "second    b\n",
            "third     c\n",
            "fourth    d\n",
            "dtype: object\n",
            "\n",
            "indexes in Series are :::\n",
            "Index(['first', 'second', 'third', 'fourth'], dtype='object')\n"
          ]
        }
      ]
    },
    {
      "cell_type": "code",
      "source": [
        "import pandas as pd\n",
        "import numpy as np\n",
        "arr= np.array([10,15,18,22,55,77])\n",
        "s=pd.Series(arr,index=['A','B','C','D','E','F'])\n",
        "print(s)\n",
        "print(s[1:5:2])\n",
        "print(s[0:6:2])"
      ],
      "metadata": {
        "colab": {
          "base_uri": "https://localhost:8080/"
        },
        "id": "z1zHYDpUNUPr",
        "outputId": "6e941fab-aa74-4d79-fa82-a3658c25f9cc"
      },
      "execution_count": null,
      "outputs": [
        {
          "output_type": "stream",
          "name": "stdout",
          "text": [
            "A    10\n",
            "B    15\n",
            "C    18\n",
            "D    22\n",
            "E    55\n",
            "F    77\n",
            "dtype: int64\n",
            "B    15\n",
            "D    22\n",
            "dtype: int64\n",
            "A    10\n",
            "C    18\n",
            "E    55\n",
            "dtype: int64\n"
          ]
        }
      ]
    },
    {
      "cell_type": "code",
      "source": [
        "import pandas as pd\n",
        "df=pd.DataFrame()\n",
        "print(df)"
      ],
      "metadata": {
        "colab": {
          "base_uri": "https://localhost:8080/"
        },
        "id": "K4sVAXpBPBbA",
        "outputId": "ec973c04-6d04-4c07-dc6f-8461ef70542d"
      },
      "execution_count": null,
      "outputs": [
        {
          "output_type": "stream",
          "name": "stdout",
          "text": [
            "Empty DataFrame\n",
            "Columns: []\n",
            "Index: []\n"
          ]
        }
      ]
    },
    {
      "cell_type": "code",
      "source": [
        "import pandas as pd\n",
        "name=pd.Series(['Hardik','Virat'])\n",
        "team=pd.Series(['MI','RCB'])\n",
        "dic={'Name':name,'Team':team}\n",
        "df=pd.DataFrame(dic)\n",
        "print(df)"
      ],
      "metadata": {
        "colab": {
          "base_uri": "https://localhost:8080/"
        },
        "id": "yadmGCk_QGxA",
        "outputId": "d598cb46-789f-459a-a056-d535010602b4"
      },
      "execution_count": null,
      "outputs": [
        {
          "output_type": "stream",
          "name": "stdout",
          "text": [
            "     Name Team\n",
            "0  Hardik   MI\n",
            "1   Virat  RCB\n"
          ]
        }
      ]
    },
    {
      "cell_type": "code",
      "source": [
        "import pandas as pd\n",
        "I=[{'Name':'Sachin','SirName':'Bhardwaj'},{'Name':'Vinod','SirName':'Verma'},{'Name':'Rajesh','SirName':'Mishra'}]\n",
        "df1=pd.DataFrame(I)\n",
        "print(df1)"
      ],
      "metadata": {
        "colab": {
          "base_uri": "https://localhost:8080/"
        },
        "id": "1t8U61xIQQ4X",
        "outputId": "96acb47f-9d0f-40b3-a189-516f0fd0b68c"
      },
      "execution_count": null,
      "outputs": [
        {
          "output_type": "stream",
          "name": "stdout",
          "text": [
            "     Name   SirName\n",
            "0  Sachin  Bhardwaj\n",
            "1   Vinod     Verma\n",
            "2  Rajesh    Mishra\n"
          ]
        }
      ]
    },
    {
      "cell_type": "code",
      "source": [
        "import pandas as pd\n",
        "l=[{'Name':'Sachin','SirName':'Bhardwaj'},{'Name':'Vinod','SirName':'Verma'}]\n",
        "df1=pd.DataFrame(l)\n",
        "print(df1)\n",
        "for(row_index,row_value)in df1.iterrows():\n",
        "    print('\\nRow index is ::',row_index)\n",
        "    print('Row Value is::')\n",
        "    print(row_value)"
      ],
      "metadata": {
        "colab": {
          "base_uri": "https://localhost:8080/"
        },
        "id": "eVTNLZ3gRCUa",
        "outputId": "07889ac0-29fd-4c8e-d9e5-28b47bb8360d"
      },
      "execution_count": null,
      "outputs": [
        {
          "output_type": "stream",
          "name": "stdout",
          "text": [
            "     Name   SirName\n",
            "0  Sachin  Bhardwaj\n",
            "1   Vinod     Verma\n",
            "\n",
            "Row index is :: 0\n",
            "Row Value is::\n",
            "Name         Sachin\n",
            "SirName    Bhardwaj\n",
            "Name: 0, dtype: object\n",
            "\n",
            "Row index is :: 1\n",
            "Row Value is::\n",
            "Name       Vinod\n",
            "SirName    Verma\n",
            "Name: 1, dtype: object\n"
          ]
        }
      ]
    },
    {
      "cell_type": "code",
      "source": [
        "import pandas as pd\n",
        "l=[{'Name':'Sachin','SirName':'Bhardwaj'}, {'Name':'Vinod','SirName':'Verma'}]\n",
        "df1=pd.DataFrame(l)\n",
        "print(df1)\n",
        "for(col_name,col_value)in df1.iteritems():\n",
        "    print('\\n')\n",
        "    print('Column Name is ::',col_name)\n",
        "    print('Column Values are::')\n",
        "    print(col_value)"
      ],
      "metadata": {
        "colab": {
          "base_uri": "https://localhost:8080/"
        },
        "id": "L0d4tszuRTYc",
        "outputId": "7cc49d8c-2a81-4bde-a336-abdfd128c929"
      },
      "execution_count": null,
      "outputs": [
        {
          "output_type": "stream",
          "name": "stdout",
          "text": [
            "     Name   SirName\n",
            "0  Sachin  Bhardwaj\n",
            "1   Vinod     Verma\n",
            "\n",
            "\n",
            "Column Name is :: Name\n",
            "Column Values are::\n",
            "0    Sachin\n",
            "1     Vinod\n",
            "Name: Name, dtype: object\n",
            "\n",
            "\n",
            "Column Name is :: SirName\n",
            "Column Values are::\n",
            "0    Bhardwaj\n",
            "1       Verma\n",
            "Name: SirName, dtype: object\n"
          ]
        }
      ]
    },
    {
      "cell_type": "code",
      "source": [
        "import pandas as pd\n",
        "empdata= {'empid':[101,102,103,104,105,106],'ename':['Sachin','Vinod','Lakhbir','Anil','Devinder','UmaSelvi'],\n",
        "          'Doj':['12 -01-2012','15 -01-2012','05 -09-2007','17 -01- 2012','05 -09-2007','16 -01-2012']}\n",
        "df=pd.DataFrame(empdata)\n",
        "print(df)"
      ],
      "metadata": {
        "colab": {
          "base_uri": "https://localhost:8080/"
        },
        "id": "rhKO6AGDRepD",
        "outputId": "283c3d51-d247-406c-9235-cc4497711553"
      },
      "execution_count": null,
      "outputs": [
        {
          "output_type": "stream",
          "name": "stdout",
          "text": [
            "   empid     ename           Doj\n",
            "0    101    Sachin   12 -01-2012\n",
            "1    102     Vinod   15 -01-2012\n",
            "2    103   Lakhbir   05 -09-2007\n",
            "3    104      Anil  17 -01- 2012\n",
            "4    105  Devinder   05 -09-2007\n",
            "5    106  UmaSelvi   16 -01-2012\n"
          ]
        }
      ]
    },
    {
      "cell_type": "code",
      "source": [
        "import pandas as pd\n",
        "s=pd.Series([10,15,18,22])\n",
        "df=pd.DataFrame(s)\n",
        "df.columns=['List1']                  \n",
        "df['List2']=20                 \n",
        "df['List3']=df['List1']+df['List2']\n",
        "print(df)"
      ],
      "metadata": {
        "colab": {
          "base_uri": "https://localhost:8080/"
        },
        "id": "rDB35w8tTsBZ",
        "outputId": "bfc898ee-c117-4fab-b0be-0123319ba2d3"
      },
      "execution_count": null,
      "outputs": [
        {
          "output_type": "stream",
          "name": "stdout",
          "text": [
            "   List1  List2  List3\n",
            "0     10     20     30\n",
            "1     15     20     35\n",
            "2     18     20     38\n",
            "3     22     20     42\n"
          ]
        }
      ]
    },
    {
      "cell_type": "code",
      "source": [
        "import pandas as pd\n",
        "s=pd.Series([10,20,30,40])\n",
        "df=pd.DataFrame(s)\n",
        "df.columns=['List1']\n",
        "df['List2']=40\n",
        "df1=df.drop('List2',axis=1)\n",
        "df2=df.drop(index=[2,3],axis=0)                        \n",
        "print(df)\n",
        "print(\"After deletion ::\")\n",
        "print(df1)\n",
        "                "
      ],
      "metadata": {
        "colab": {
          "base_uri": "https://localhost:8080/"
        },
        "id": "QD_Cnp9BUOvB",
        "outputId": "eb17a9a1-80ae-4cbb-c498-34263be94e90"
      },
      "execution_count": null,
      "outputs": [
        {
          "output_type": "stream",
          "name": "stdout",
          "text": [
            "   List1  List2\n",
            "0     10     40\n",
            "1     20     40\n",
            "2     30     40\n",
            "3     40     40\n",
            "After deletion ::\n",
            "   List1\n",
            "0     10\n",
            "1     20\n",
            "2     30\n",
            "3     40\n"
          ]
        }
      ]
    },
    {
      "cell_type": "code",
      "source": [
        "import pandas as pd\n",
        "Runs={'TCS':{'Qtrl':2500,'Qtr2':2000,'Qtr3':3000,'Qtr4':2000}, 'WIPRO':{'Qtr1':2800,'Qtr2':2400,'Qtr3':3600,'Qtr4':2400}, 'L&T':{'Qtr1':2100,'Qtr2':5700,'Qtr3':35000,'Qtr4':2100}}\n",
        "df=pd.DataFrame(Runs)\n",
        "print(df)\n",
        "print(df.loc[:,'TCS'])\n",
        "print(df.loc[:,'TCS':'WIPRO'])"
      ],
      "metadata": {
        "colab": {
          "base_uri": "https://localhost:8080/"
        },
        "id": "6DQba6toUoof",
        "outputId": "05760ced-53e5-4505-8790-c2c4ffb2b7b5"
      },
      "execution_count": null,
      "outputs": [
        {
          "output_type": "stream",
          "name": "stdout",
          "text": [
            "         TCS   WIPRO      L&T\n",
            "Qtrl  2500.0     NaN      NaN\n",
            "Qtr2  2000.0  2400.0   5700.0\n",
            "Qtr3  3000.0  3600.0  35000.0\n",
            "Qtr4  2000.0  2400.0   2100.0\n",
            "Qtr1     NaN  2800.0   2100.0\n",
            "Qtrl    2500.0\n",
            "Qtr2    2000.0\n",
            "Qtr3    3000.0\n",
            "Qtr4    2000.0\n",
            "Qtr1       NaN\n",
            "Name: TCS, dtype: float64\n",
            "         TCS   WIPRO\n",
            "Qtrl  2500.0     NaN\n",
            "Qtr2  2000.0  2400.0\n",
            "Qtr3  3000.0  3600.0\n",
            "Qtr4  2000.0  2400.0\n",
            "Qtr1     NaN  2800.0\n"
          ]
        }
      ]
    },
    {
      "cell_type": "code",
      "source": [
        "import pandas as pd\n",
        "empdata={'empid':[101,102,103,104,105,106],'ename':['Sachin','Vinod','Lakhbir','Anil','Devinder','UmaSelvi'],'Doj':['12 -01-2012','15 -01-2012','05 -09-2007','17 -01- 2012','05 -09-2007','16 -01-2012']}\n",
        "                               \n",
        "df=pd.DataFrame(empdata)\n",
        "print(df)\n",
        "print(df.loc[0])\n",
        "df.loc[0:2]\n",
        "                                            "
      ],
      "metadata": {
        "colab": {
          "base_uri": "https://localhost:8080/",
          "height": 334
        },
        "id": "kXA2QiYPVDOt",
        "outputId": "67c8a77e-7000-4c76-a9a2-d3c7864e3ef3"
      },
      "execution_count": null,
      "outputs": [
        {
          "output_type": "stream",
          "name": "stdout",
          "text": [
            "   empid     ename           Doj\n",
            "0    101    Sachin   12 -01-2012\n",
            "1    102     Vinod   15 -01-2012\n",
            "2    103   Lakhbir   05 -09-2007\n",
            "3    104      Anil  17 -01- 2012\n",
            "4    105  Devinder   05 -09-2007\n",
            "5    106  UmaSelvi   16 -01-2012\n",
            "empid            101\n",
            "ename         Sachin\n",
            "Doj      12 -01-2012\n",
            "Name: 0, dtype: object\n"
          ]
        },
        {
          "output_type": "execute_result",
          "data": {
            "text/plain": [
              "   empid    ename          Doj\n",
              "0    101   Sachin  12 -01-2012\n",
              "1    102    Vinod  15 -01-2012\n",
              "2    103  Lakhbir  05 -09-2007"
            ],
            "text/html": [
              "\n",
              "  <div id=\"df-761fc631-8400-4928-90d5-b3c953c98ce7\">\n",
              "    <div class=\"colab-df-container\">\n",
              "      <div>\n",
              "<style scoped>\n",
              "    .dataframe tbody tr th:only-of-type {\n",
              "        vertical-align: middle;\n",
              "    }\n",
              "\n",
              "    .dataframe tbody tr th {\n",
              "        vertical-align: top;\n",
              "    }\n",
              "\n",
              "    .dataframe thead th {\n",
              "        text-align: right;\n",
              "    }\n",
              "</style>\n",
              "<table border=\"1\" class=\"dataframe\">\n",
              "  <thead>\n",
              "    <tr style=\"text-align: right;\">\n",
              "      <th></th>\n",
              "      <th>empid</th>\n",
              "      <th>ename</th>\n",
              "      <th>Doj</th>\n",
              "    </tr>\n",
              "  </thead>\n",
              "  <tbody>\n",
              "    <tr>\n",
              "      <th>0</th>\n",
              "      <td>101</td>\n",
              "      <td>Sachin</td>\n",
              "      <td>12 -01-2012</td>\n",
              "    </tr>\n",
              "    <tr>\n",
              "      <th>1</th>\n",
              "      <td>102</td>\n",
              "      <td>Vinod</td>\n",
              "      <td>15 -01-2012</td>\n",
              "    </tr>\n",
              "    <tr>\n",
              "      <th>2</th>\n",
              "      <td>103</td>\n",
              "      <td>Lakhbir</td>\n",
              "      <td>05 -09-2007</td>\n",
              "    </tr>\n",
              "  </tbody>\n",
              "</table>\n",
              "</div>\n",
              "      <button class=\"colab-df-convert\" onclick=\"convertToInteractive('df-761fc631-8400-4928-90d5-b3c953c98ce7')\"\n",
              "              title=\"Convert this dataframe to an interactive table.\"\n",
              "              style=\"display:none;\">\n",
              "        \n",
              "  <svg xmlns=\"http://www.w3.org/2000/svg\" height=\"24px\"viewBox=\"0 0 24 24\"\n",
              "       width=\"24px\">\n",
              "    <path d=\"M0 0h24v24H0V0z\" fill=\"none\"/>\n",
              "    <path d=\"M18.56 5.44l.94 2.06.94-2.06 2.06-.94-2.06-.94-.94-2.06-.94 2.06-2.06.94zm-11 1L8.5 8.5l.94-2.06 2.06-.94-2.06-.94L8.5 2.5l-.94 2.06-2.06.94zm10 10l.94 2.06.94-2.06 2.06-.94-2.06-.94-.94-2.06-.94 2.06-2.06.94z\"/><path d=\"M17.41 7.96l-1.37-1.37c-.4-.4-.92-.59-1.43-.59-.52 0-1.04.2-1.43.59L10.3 9.45l-7.72 7.72c-.78.78-.78 2.05 0 2.83L4 21.41c.39.39.9.59 1.41.59.51 0 1.02-.2 1.41-.59l7.78-7.78 2.81-2.81c.8-.78.8-2.07 0-2.86zM5.41 20L4 18.59l7.72-7.72 1.47 1.35L5.41 20z\"/>\n",
              "  </svg>\n",
              "      </button>\n",
              "      \n",
              "  <style>\n",
              "    .colab-df-container {\n",
              "      display:flex;\n",
              "      flex-wrap:wrap;\n",
              "      gap: 12px;\n",
              "    }\n",
              "\n",
              "    .colab-df-convert {\n",
              "      background-color: #E8F0FE;\n",
              "      border: none;\n",
              "      border-radius: 50%;\n",
              "      cursor: pointer;\n",
              "      display: none;\n",
              "      fill: #1967D2;\n",
              "      height: 32px;\n",
              "      padding: 0 0 0 0;\n",
              "      width: 32px;\n",
              "    }\n",
              "\n",
              "    .colab-df-convert:hover {\n",
              "      background-color: #E2EBFA;\n",
              "      box-shadow: 0px 1px 2px rgba(60, 64, 67, 0.3), 0px 1px 3px 1px rgba(60, 64, 67, 0.15);\n",
              "      fill: #174EA6;\n",
              "    }\n",
              "\n",
              "    [theme=dark] .colab-df-convert {\n",
              "      background-color: #3B4455;\n",
              "      fill: #D2E3FC;\n",
              "    }\n",
              "\n",
              "    [theme=dark] .colab-df-convert:hover {\n",
              "      background-color: #434B5C;\n",
              "      box-shadow: 0px 1px 3px 1px rgba(0, 0, 0, 0.15);\n",
              "      filter: drop-shadow(0px 1px 2px rgba(0, 0, 0, 0.3));\n",
              "      fill: #FFFFFF;\n",
              "    }\n",
              "  </style>\n",
              "\n",
              "      <script>\n",
              "        const buttonEl =\n",
              "          document.querySelector('#df-761fc631-8400-4928-90d5-b3c953c98ce7 button.colab-df-convert');\n",
              "        buttonEl.style.display =\n",
              "          google.colab.kernel.accessAllowed ? 'block' : 'none';\n",
              "\n",
              "        async function convertToInteractive(key) {\n",
              "          const element = document.querySelector('#df-761fc631-8400-4928-90d5-b3c953c98ce7');\n",
              "          const dataTable =\n",
              "            await google.colab.kernel.invokeFunction('convertToInteractive',\n",
              "                                                     [key], {});\n",
              "          if (!dataTable) return;\n",
              "\n",
              "          const docLinkHtml = 'Like what you see? Visit the ' +\n",
              "            '<a target=\"_blank\" href=https://colab.research.google.com/notebooks/data_table.ipynb>data table notebook</a>'\n",
              "            + ' to learn more about interactive tables.';\n",
              "          element.innerHTML = '';\n",
              "          dataTable['output_type'] = 'display_data';\n",
              "          await google.colab.output.renderOutput(dataTable, element);\n",
              "          const docLink = document.createElement('div');\n",
              "          docLink.innerHTML = docLinkHtml;\n",
              "          element.appendChild(docLink);\n",
              "        }\n",
              "      </script>\n",
              "    </div>\n",
              "  </div>\n",
              "  "
            ]
          },
          "metadata": {},
          "execution_count": 45
        }
      ]
    },
    {
      "cell_type": "code",
      "source": [
        "import pandas as pd\n",
        "empdata={'empid':[101,102,103,104,105,106],'ename':['Sachin','Vinod','Lakhbir','Anil','Devinder','UmaSelvi'],'Doj':['12 -01-2012','15 -01-2012','05 -09-2007','17 -01- 2012','05 -09-2007','16 -01-2012']}                               \n",
        "df=pd.DataFrame(empdata)\n",
        "print(df)\n",
        "print(df.loc[0])\n",
        "df.loc[0:2]\n",
        "                                       "
      ],
      "metadata": {
        "colab": {
          "base_uri": "https://localhost:8080/",
          "height": 334
        },
        "id": "5Ao46WYSVX1T",
        "outputId": "e7a528b6-e38c-46f1-a4df-ffa019f2063b"
      },
      "execution_count": null,
      "outputs": [
        {
          "output_type": "stream",
          "name": "stdout",
          "text": [
            "   empid     ename           Doj\n",
            "0    101    Sachin   12 -01-2012\n",
            "1    102     Vinod   15 -01-2012\n",
            "2    103   Lakhbir   05 -09-2007\n",
            "3    104      Anil  17 -01- 2012\n",
            "4    105  Devinder   05 -09-2007\n",
            "5    106  UmaSelvi   16 -01-2012\n",
            "empid            101\n",
            "ename         Sachin\n",
            "Doj      12 -01-2012\n",
            "Name: 0, dtype: object\n"
          ]
        },
        {
          "output_type": "execute_result",
          "data": {
            "text/plain": [
              "   empid    ename          Doj\n",
              "0    101   Sachin  12 -01-2012\n",
              "1    102    Vinod  15 -01-2012\n",
              "2    103  Lakhbir  05 -09-2007"
            ],
            "text/html": [
              "\n",
              "  <div id=\"df-eee3f77a-ae32-4fc7-82b6-52712f6aa36b\">\n",
              "    <div class=\"colab-df-container\">\n",
              "      <div>\n",
              "<style scoped>\n",
              "    .dataframe tbody tr th:only-of-type {\n",
              "        vertical-align: middle;\n",
              "    }\n",
              "\n",
              "    .dataframe tbody tr th {\n",
              "        vertical-align: top;\n",
              "    }\n",
              "\n",
              "    .dataframe thead th {\n",
              "        text-align: right;\n",
              "    }\n",
              "</style>\n",
              "<table border=\"1\" class=\"dataframe\">\n",
              "  <thead>\n",
              "    <tr style=\"text-align: right;\">\n",
              "      <th></th>\n",
              "      <th>empid</th>\n",
              "      <th>ename</th>\n",
              "      <th>Doj</th>\n",
              "    </tr>\n",
              "  </thead>\n",
              "  <tbody>\n",
              "    <tr>\n",
              "      <th>0</th>\n",
              "      <td>101</td>\n",
              "      <td>Sachin</td>\n",
              "      <td>12 -01-2012</td>\n",
              "    </tr>\n",
              "    <tr>\n",
              "      <th>1</th>\n",
              "      <td>102</td>\n",
              "      <td>Vinod</td>\n",
              "      <td>15 -01-2012</td>\n",
              "    </tr>\n",
              "    <tr>\n",
              "      <th>2</th>\n",
              "      <td>103</td>\n",
              "      <td>Lakhbir</td>\n",
              "      <td>05 -09-2007</td>\n",
              "    </tr>\n",
              "  </tbody>\n",
              "</table>\n",
              "</div>\n",
              "      <button class=\"colab-df-convert\" onclick=\"convertToInteractive('df-eee3f77a-ae32-4fc7-82b6-52712f6aa36b')\"\n",
              "              title=\"Convert this dataframe to an interactive table.\"\n",
              "              style=\"display:none;\">\n",
              "        \n",
              "  <svg xmlns=\"http://www.w3.org/2000/svg\" height=\"24px\"viewBox=\"0 0 24 24\"\n",
              "       width=\"24px\">\n",
              "    <path d=\"M0 0h24v24H0V0z\" fill=\"none\"/>\n",
              "    <path d=\"M18.56 5.44l.94 2.06.94-2.06 2.06-.94-2.06-.94-.94-2.06-.94 2.06-2.06.94zm-11 1L8.5 8.5l.94-2.06 2.06-.94-2.06-.94L8.5 2.5l-.94 2.06-2.06.94zm10 10l.94 2.06.94-2.06 2.06-.94-2.06-.94-.94-2.06-.94 2.06-2.06.94z\"/><path d=\"M17.41 7.96l-1.37-1.37c-.4-.4-.92-.59-1.43-.59-.52 0-1.04.2-1.43.59L10.3 9.45l-7.72 7.72c-.78.78-.78 2.05 0 2.83L4 21.41c.39.39.9.59 1.41.59.51 0 1.02-.2 1.41-.59l7.78-7.78 2.81-2.81c.8-.78.8-2.07 0-2.86zM5.41 20L4 18.59l7.72-7.72 1.47 1.35L5.41 20z\"/>\n",
              "  </svg>\n",
              "      </button>\n",
              "      \n",
              "  <style>\n",
              "    .colab-df-container {\n",
              "      display:flex;\n",
              "      flex-wrap:wrap;\n",
              "      gap: 12px;\n",
              "    }\n",
              "\n",
              "    .colab-df-convert {\n",
              "      background-color: #E8F0FE;\n",
              "      border: none;\n",
              "      border-radius: 50%;\n",
              "      cursor: pointer;\n",
              "      display: none;\n",
              "      fill: #1967D2;\n",
              "      height: 32px;\n",
              "      padding: 0 0 0 0;\n",
              "      width: 32px;\n",
              "    }\n",
              "\n",
              "    .colab-df-convert:hover {\n",
              "      background-color: #E2EBFA;\n",
              "      box-shadow: 0px 1px 2px rgba(60, 64, 67, 0.3), 0px 1px 3px 1px rgba(60, 64, 67, 0.15);\n",
              "      fill: #174EA6;\n",
              "    }\n",
              "\n",
              "    [theme=dark] .colab-df-convert {\n",
              "      background-color: #3B4455;\n",
              "      fill: #D2E3FC;\n",
              "    }\n",
              "\n",
              "    [theme=dark] .colab-df-convert:hover {\n",
              "      background-color: #434B5C;\n",
              "      box-shadow: 0px 1px 3px 1px rgba(0, 0, 0, 0.15);\n",
              "      filter: drop-shadow(0px 1px 2px rgba(0, 0, 0, 0.3));\n",
              "      fill: #FFFFFF;\n",
              "    }\n",
              "  </style>\n",
              "\n",
              "      <script>\n",
              "        const buttonEl =\n",
              "          document.querySelector('#df-eee3f77a-ae32-4fc7-82b6-52712f6aa36b button.colab-df-convert');\n",
              "        buttonEl.style.display =\n",
              "          google.colab.kernel.accessAllowed ? 'block' : 'none';\n",
              "\n",
              "        async function convertToInteractive(key) {\n",
              "          const element = document.querySelector('#df-eee3f77a-ae32-4fc7-82b6-52712f6aa36b');\n",
              "          const dataTable =\n",
              "            await google.colab.kernel.invokeFunction('convertToInteractive',\n",
              "                                                     [key], {});\n",
              "          if (!dataTable) return;\n",
              "\n",
              "          const docLinkHtml = 'Like what you see? Visit the ' +\n",
              "            '<a target=\"_blank\" href=https://colab.research.google.com/notebooks/data_table.ipynb>data table notebook</a>'\n",
              "            + ' to learn more about interactive tables.';\n",
              "          element.innerHTML = '';\n",
              "          dataTable['output_type'] = 'display_data';\n",
              "          await google.colab.output.renderOutput(dataTable, element);\n",
              "          const docLink = document.createElement('div');\n",
              "          docLink.innerHTML = docLinkHtml;\n",
              "          element.appendChild(docLink);\n",
              "        }\n",
              "      </script>\n",
              "    </div>\n",
              "  </div>\n",
              "  "
            ]
          },
          "metadata": {},
          "execution_count": 46
        }
      ]
    },
    {
      "cell_type": "code",
      "source": [
        "import pandas as pd\n",
        "empdata={ 'Doj':['12-01-2012','15-01-2012','05-09-2007','17-01-2012','05-09-2007','16-01-2012'],'empid':[101,102,103,104,105,106],'ename':['Sachin','Vinod','Lakhbir','Anil','Devinder','UmaSelvi']}\n",
        "\n",
        "df=pd.DataFrame(empdata)\n",
        "print(df)\n",
        "print(df.head())\n",
        "print(df.tail())"
      ],
      "metadata": {
        "colab": {
          "base_uri": "https://localhost:8080/"
        },
        "id": "aX7p9CkBWoiZ",
        "outputId": "e1b318cf-0ef4-496c-92eb-e243b478ea5f"
      },
      "execution_count": null,
      "outputs": [
        {
          "output_type": "stream",
          "name": "stdout",
          "text": [
            "          Doj  empid     ename\n",
            "0  12-01-2012    101    Sachin\n",
            "1  15-01-2012    102     Vinod\n",
            "2  05-09-2007    103   Lakhbir\n",
            "3  17-01-2012    104      Anil\n",
            "4  05-09-2007    105  Devinder\n",
            "5  16-01-2012    106  UmaSelvi\n",
            "          Doj  empid     ename\n",
            "0  12-01-2012    101    Sachin\n",
            "1  15-01-2012    102     Vinod\n",
            "2  05-09-2007    103   Lakhbir\n",
            "3  17-01-2012    104      Anil\n",
            "4  05-09-2007    105  Devinder\n",
            "          Doj  empid     ename\n",
            "1  15-01-2012    102     Vinod\n",
            "2  05-09-2007    103   Lakhbir\n",
            "3  17-01-2012    104      Anil\n",
            "4  05-09-2007    105  Devinder\n",
            "5  16-01-2012    106  UmaSelvi\n"
          ]
        }
      ]
    },
    {
      "cell_type": "code",
      "source": [
        "import pandas as pd\n",
        "empdata={ 'Doj':['12-01-2012','15-01-2012','05-09-2007','17-01-2012','05-09-2007','16-01-2012'],'empid':[101,102,103,104,105,106],'ename':['Sachin','Vinod','Lakhbir','Anil','Devinder','UmaSelvi']}\n",
        "df=pd.DataFrame(empdata)\n",
        "print(df)\n",
        "print(df.head(2))\n",
        "print(df.tail(2))\n",
        "print(df[2:5])"
      ],
      "metadata": {
        "colab": {
          "base_uri": "https://localhost:8080/"
        },
        "id": "-zXjZCGxW02x",
        "outputId": "72cb14b7-9e0b-4f23-835f-c9eca46d1439"
      },
      "execution_count": null,
      "outputs": [
        {
          "output_type": "stream",
          "name": "stdout",
          "text": [
            "          Doj  empid     ename\n",
            "0  12-01-2012    101    Sachin\n",
            "1  15-01-2012    102     Vinod\n",
            "2  05-09-2007    103   Lakhbir\n",
            "3  17-01-2012    104      Anil\n",
            "4  05-09-2007    105  Devinder\n",
            "5  16-01-2012    106  UmaSelvi\n",
            "          Doj  empid   ename\n",
            "0  12-01-2012    101  Sachin\n",
            "1  15-01-2012    102   Vinod\n",
            "          Doj  empid     ename\n",
            "4  05-09-2007    105  Devinder\n",
            "5  16-01-2012    106  UmaSelvi\n",
            "          Doj  empid     ename\n",
            "2  05-09-2007    103   Lakhbir\n",
            "3  17-01-2012    104      Anil\n",
            "4  05-09-2007    105  Devinder\n"
          ]
        }
      ]
    },
    {
      "cell_type": "code",
      "source": [],
      "metadata": {
        "id": "6uZnv5SKW38B"
      },
      "execution_count": null,
      "outputs": []
    }
  ]
}